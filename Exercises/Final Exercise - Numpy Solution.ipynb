{
 "cells": [
  {
   "cell_type": "markdown",
   "metadata": {
    "cell_id": "d39ca36e104f4bbe9a02f85516d71596",
    "deepnote_cell_type": "markdown"
   },
   "source": [
    "# NumPy Exercises\n",
    "\n",
    "Now that we've learned about NumPy let's test your knowledge. We'll start off with a few simple tasks and then you'll be asked some more complicated questions."
   ]
  },
  {
   "cell_type": "markdown",
   "metadata": {
    "cell_id": "c2f67e78c5414a62b0f29569de5cc735",
    "deepnote_cell_type": "markdown"
   },
   "source": [
    "#### Import NumPy (as np)"
   ]
  },
  {
   "cell_type": "code",
   "execution_count": 1,
   "metadata": {},
   "outputs": [],
   "source": [
    "import numpy as np"
   ]
  },
  {
   "cell_type": "markdown",
   "metadata": {},
   "source": [
    "#### Set the seed to 0"
   ]
  },
  {
   "cell_type": "code",
   "execution_count": 2,
   "metadata": {},
   "outputs": [],
   "source": [
    "np.random.seed(0)"
   ]
  },
  {
   "cell_type": "markdown",
   "metadata": {
    "cell_id": "cb6d51c5af99468aa73f7d788a4bd688",
    "deepnote_cell_type": "markdown"
   },
   "source": [
    "#### Create an array of 10 zeros "
   ]
  },
  {
   "cell_type": "code",
   "execution_count": 4,
   "metadata": {},
   "outputs": [
    {
     "data": {
      "text/plain": [
       "array([0, 0, 0, 0, 0, 0, 0, 0, 0, 0])"
      ]
     },
     "execution_count": 4,
     "metadata": {},
     "output_type": "execute_result"
    }
   ],
   "source": [
    "np.zeros(10,dtype=int)"
   ]
  },
  {
   "cell_type": "markdown",
   "metadata": {
    "cell_id": "074e3c65b4304a47ab90b4b66da07bc2",
    "deepnote_cell_type": "markdown"
   },
   "source": [
    "#### Create an array of 10 ones"
   ]
  },
  {
   "cell_type": "code",
   "execution_count": 5,
   "metadata": {},
   "outputs": [
    {
     "data": {
      "text/plain": [
       "array([1, 1, 1, 1, 1, 1, 1, 1, 1, 1])"
      ]
     },
     "execution_count": 5,
     "metadata": {},
     "output_type": "execute_result"
    }
   ],
   "source": [
    "np.ones(10,dtype=int)"
   ]
  },
  {
   "cell_type": "markdown",
   "metadata": {
    "cell_id": "6297236f48114aeab8fd4771429debf8",
    "deepnote_cell_type": "markdown"
   },
   "source": [
    "#### Create an array of 10 fives"
   ]
  },
  {
   "cell_type": "code",
   "execution_count": 13,
   "metadata": {},
   "outputs": [
    {
     "data": {
      "text/plain": [
       "array([5, 5, 5, 5, 5, 5, 5, 5, 5, 5])"
      ]
     },
     "execution_count": 13,
     "metadata": {},
     "output_type": "execute_result"
    }
   ],
   "source": [
    "np.repeat(5,10)"
   ]
  },
  {
   "cell_type": "markdown",
   "metadata": {
    "cell_id": "f05feca18c214c62b9d2c4e8c8911867",
    "deepnote_cell_type": "markdown"
   },
   "source": [
    "#### Create an array of the integers from 10 to 50 (in order)"
   ]
  },
  {
   "cell_type": "code",
   "execution_count": 15,
   "metadata": {},
   "outputs": [
    {
     "data": {
      "text/plain": [
       "array([10, 11, 12, 13, 14, 15, 16, 17, 18, 19, 20, 21, 22, 23, 24, 25, 26,\n",
       "       27, 28, 29, 30, 31, 32, 33, 34, 35, 36, 37, 38, 39, 40, 41, 42, 43,\n",
       "       44, 45, 46, 47, 48, 49, 50])"
      ]
     },
     "execution_count": 15,
     "metadata": {},
     "output_type": "execute_result"
    }
   ],
   "source": [
    "np.arange(10,51)"
   ]
  },
  {
   "cell_type": "markdown",
   "metadata": {
    "cell_id": "d7a3e59b684f4278827cb269f19b5936",
    "deepnote_cell_type": "markdown"
   },
   "source": [
    "#### Create an array of all the even integers from 10 to 50"
   ]
  },
  {
   "cell_type": "code",
   "execution_count": 16,
   "metadata": {},
   "outputs": [
    {
     "data": {
      "text/plain": [
       "array([ 0,  2,  4,  6,  8, 10, 12, 14, 16, 18, 20, 22, 24, 26, 28, 30, 32,\n",
       "       34, 36, 38, 40, 42, 44, 46, 48, 50])"
      ]
     },
     "execution_count": 16,
     "metadata": {},
     "output_type": "execute_result"
    }
   ],
   "source": [
    "np.arange(0,51,2)"
   ]
  },
  {
   "cell_type": "markdown",
   "metadata": {
    "cell_id": "98621bd583e944efb0b0a77376ba8c08",
    "deepnote_cell_type": "markdown"
   },
   "source": [
    "#### Create a 5x5 matrix with values ranging from 0 to 8"
   ]
  },
  {
   "cell_type": "code",
   "execution_count": 19,
   "metadata": {},
   "outputs": [
    {
     "data": {
      "text/plain": [
       "array([[0, 1, 1, 1, 7],\n",
       "       [0, 7, 2, 4, 7],\n",
       "       [3, 6, 3, 2, 7],\n",
       "       [4, 2, 0, 0, 4],\n",
       "       [5, 5, 6, 0, 4]])"
      ]
     },
     "execution_count": 19,
     "metadata": {},
     "output_type": "execute_result"
    }
   ],
   "source": [
    "np.random.randint(low=0,high=8,size=(5,5))"
   ]
  },
  {
   "cell_type": "markdown",
   "metadata": {
    "cell_id": "6b3ffdbce108477cb0ec98d7715b92d3",
    "deepnote_cell_type": "markdown"
   },
   "source": [
    "#### Create a 3x3 identity matrix"
   ]
  },
  {
   "cell_type": "code",
   "execution_count": 20,
   "metadata": {},
   "outputs": [
    {
     "data": {
      "text/plain": [
       "array([[1., 0., 0.],\n",
       "       [0., 1., 0.],\n",
       "       [0., 0., 1.]])"
      ]
     },
     "execution_count": 20,
     "metadata": {},
     "output_type": "execute_result"
    }
   ],
   "source": [
    "np.identity(3)"
   ]
  },
  {
   "cell_type": "markdown",
   "metadata": {
    "cell_id": "8ef8c3fd00264c20b0323234c9876916",
    "deepnote_cell_type": "markdown"
   },
   "source": [
    "#### Use NumPy to generate a random number between 0 and 1"
   ]
  },
  {
   "cell_type": "code",
   "execution_count": 21,
   "metadata": {},
   "outputs": [
    {
     "data": {
      "text/plain": [
       "0.38648898112586194"
      ]
     },
     "execution_count": 21,
     "metadata": {},
     "output_type": "execute_result"
    }
   ],
   "source": [
    "np.random.random()"
   ]
  },
  {
   "cell_type": "markdown",
   "metadata": {
    "cell_id": "4ab1b1fadbc1468a924807621dc068db",
    "deepnote_cell_type": "markdown"
   },
   "source": [
    "#### Use NumPy to generate a 5x5 matrix of 25 random numbers sampled from a standard normal distribution"
   ]
  },
  {
   "cell_type": "code",
   "execution_count": 27,
   "metadata": {},
   "outputs": [
    {
     "data": {
      "text/plain": [
       "array([[0.28280696, 0.12019656, 0.2961402 , 0.11872772, 0.31798318],\n",
       "       [0.41426299, 0.0641475 , 0.69247212, 0.56660145, 0.26538949],\n",
       "       [0.52324805, 0.09394051, 0.5759465 , 0.9292962 , 0.31856895],\n",
       "       [0.66741038, 0.13179786, 0.7163272 , 0.28940609, 0.18319136],\n",
       "       [0.58651293, 0.02010755, 0.82894003, 0.00469548, 0.67781654]])"
      ]
     },
     "execution_count": 27,
     "metadata": {},
     "output_type": "execute_result"
    }
   ],
   "source": [
    "np.random.random_sample((5,5))"
   ]
  },
  {
   "cell_type": "markdown",
   "metadata": {
    "cell_id": "4d42f892a0a341fd960c09754f4f99cc",
    "deepnote_cell_type": "markdown"
   },
   "source": [
    "#### Create the following matrix (hint: use `linspace` with `reshape`):"
   ]
  },
  {
   "cell_type": "markdown",
   "metadata": {
    "cell_id": "b26fbbf211884a60913bc46495687310",
    "deepnote_cell_type": "code",
    "jupyter": {
     "outputs_hidden": false
    }
   },
   "source": [
    "Expected result:\n",
    "```python\n",
    "array([[ 0.01,  0.02,  0.03,  0.04,  0.05,  0.06,  0.07,  0.08,  0.09,  0.1 ],\n",
    "       [ 0.11,  0.12,  0.13,  0.14,  0.15,  0.16,  0.17,  0.18,  0.19,  0.2 ],\n",
    "       [ 0.21,  0.22,  0.23,  0.24,  0.25,  0.26,  0.27,  0.28,  0.29,  0.3 ],\n",
    "       [ 0.31,  0.32,  0.33,  0.34,  0.35,  0.36,  0.37,  0.38,  0.39,  0.4 ],\n",
    "       [ 0.41,  0.42,  0.43,  0.44,  0.45,  0.46,  0.47,  0.48,  0.49,  0.5 ],\n",
    "       [ 0.51,  0.52,  0.53,  0.54,  0.55,  0.56,  0.57,  0.58,  0.59,  0.6 ],\n",
    "       [ 0.61,  0.62,  0.63,  0.64,  0.65,  0.66,  0.67,  0.68,  0.69,  0.7 ],\n",
    "       [ 0.71,  0.72,  0.73,  0.74,  0.75,  0.76,  0.77,  0.78,  0.79,  0.8 ],\n",
    "       [ 0.81,  0.82,  0.83,  0.84,  0.85,  0.86,  0.87,  0.88,  0.89,  0.9 ],\n",
    "       [ 0.91,  0.92,  0.93,  0.94,  0.95,  0.96,  0.97,  0.98,  0.99,  1.  ]])\n",
    "```"
   ]
  },
  {
   "cell_type": "markdown",
   "metadata": {
    "cell_id": "311350dd631e4df8bff45cdec490bbef",
    "deepnote_cell_type": "markdown"
   },
   "source": [
    "#### Create an array of 20 linearly spaced points between 0 and 1:"
   ]
  },
  {
   "cell_type": "code",
   "execution_count": 38,
   "metadata": {},
   "outputs": [
    {
     "data": {
      "text/plain": [
       "array([[[0.        ],\n",
       "        [0.01010101],\n",
       "        [0.02020202],\n",
       "        [0.03030303],\n",
       "        [0.04040404],\n",
       "        [0.05050505],\n",
       "        [0.06060606],\n",
       "        [0.07070707],\n",
       "        [0.08080808],\n",
       "        [0.09090909]],\n",
       "\n",
       "       [[0.1010101 ],\n",
       "        [0.11111111],\n",
       "        [0.12121212],\n",
       "        [0.13131313],\n",
       "        [0.14141414],\n",
       "        [0.15151515],\n",
       "        [0.16161616],\n",
       "        [0.17171717],\n",
       "        [0.18181818],\n",
       "        [0.19191919]],\n",
       "\n",
       "       [[0.2020202 ],\n",
       "        [0.21212121],\n",
       "        [0.22222222],\n",
       "        [0.23232323],\n",
       "        [0.24242424],\n",
       "        [0.25252525],\n",
       "        [0.26262626],\n",
       "        [0.27272727],\n",
       "        [0.28282828],\n",
       "        [0.29292929]],\n",
       "\n",
       "       [[0.3030303 ],\n",
       "        [0.31313131],\n",
       "        [0.32323232],\n",
       "        [0.33333333],\n",
       "        [0.34343434],\n",
       "        [0.35353535],\n",
       "        [0.36363636],\n",
       "        [0.37373737],\n",
       "        [0.38383838],\n",
       "        [0.39393939]],\n",
       "\n",
       "       [[0.4040404 ],\n",
       "        [0.41414141],\n",
       "        [0.42424242],\n",
       "        [0.43434343],\n",
       "        [0.44444444],\n",
       "        [0.45454545],\n",
       "        [0.46464646],\n",
       "        [0.47474747],\n",
       "        [0.48484848],\n",
       "        [0.49494949]],\n",
       "\n",
       "       [[0.50505051],\n",
       "        [0.51515152],\n",
       "        [0.52525253],\n",
       "        [0.53535354],\n",
       "        [0.54545455],\n",
       "        [0.55555556],\n",
       "        [0.56565657],\n",
       "        [0.57575758],\n",
       "        [0.58585859],\n",
       "        [0.5959596 ]],\n",
       "\n",
       "       [[0.60606061],\n",
       "        [0.61616162],\n",
       "        [0.62626263],\n",
       "        [0.63636364],\n",
       "        [0.64646465],\n",
       "        [0.65656566],\n",
       "        [0.66666667],\n",
       "        [0.67676768],\n",
       "        [0.68686869],\n",
       "        [0.6969697 ]],\n",
       "\n",
       "       [[0.70707071],\n",
       "        [0.71717172],\n",
       "        [0.72727273],\n",
       "        [0.73737374],\n",
       "        [0.74747475],\n",
       "        [0.75757576],\n",
       "        [0.76767677],\n",
       "        [0.77777778],\n",
       "        [0.78787879],\n",
       "        [0.7979798 ]],\n",
       "\n",
       "       [[0.80808081],\n",
       "        [0.81818182],\n",
       "        [0.82828283],\n",
       "        [0.83838384],\n",
       "        [0.84848485],\n",
       "        [0.85858586],\n",
       "        [0.86868687],\n",
       "        [0.87878788],\n",
       "        [0.88888889],\n",
       "        [0.8989899 ]],\n",
       "\n",
       "       [[0.90909091],\n",
       "        [0.91919192],\n",
       "        [0.92929293],\n",
       "        [0.93939394],\n",
       "        [0.94949495],\n",
       "        [0.95959596],\n",
       "        [0.96969697],\n",
       "        [0.97979798],\n",
       "        [0.98989899],\n",
       "        [1.        ]]])"
      ]
     },
     "execution_count": 38,
     "metadata": {},
     "output_type": "execute_result"
    }
   ],
   "source": [
    "mat = np.linspace(0,1,100).reshape((10,10,-1))\n",
    "mat\n",
    "# np.reshape(np.linspace(0,1),(10,10))"
   ]
  },
  {
   "cell_type": "markdown",
   "metadata": {
    "cell_id": "2176c4503e7a4f2da5adad421a548c10",
    "deepnote_cell_type": "markdown"
   },
   "source": [
    "## Numpy Indexing and Selection\n",
    "\n",
    "Now you will be given a few matrices, and be asked to replicate the resulting matrix outputs:"
   ]
  },
  {
   "cell_type": "code",
   "execution_count": 39,
   "metadata": {
    "cell_id": "46952bd3715b457cb06058bb0e203f5f",
    "collapsed": false,
    "deepnote_cell_type": "code",
    "jupyter": {
     "outputs_hidden": false
    }
   },
   "outputs": [
    {
     "data": {
      "text/plain": [
       "array([[ 1,  2,  3,  4,  5],\n",
       "       [ 6,  7,  8,  9, 10],\n",
       "       [11, 12, 13, 14, 15],\n",
       "       [16, 17, 18, 19, 20],\n",
       "       [21, 22, 23, 24, 25]])"
      ]
     },
     "execution_count": 39,
     "metadata": {},
     "output_type": "execute_result"
    }
   ],
   "source": [
    "mat = np.arange(1,26).reshape(5,5)\n",
    "mat"
   ]
  },
  {
   "cell_type": "code",
   "execution_count": 50,
   "metadata": {
    "cell_id": "a00f8572f46a4e318c79719b97ad757a",
    "deepnote_cell_type": "code",
    "tags": []
   },
   "outputs": [
    {
     "data": {
      "text/plain": [
       "array([[12, 13, 14, 15],\n",
       "       [17, 18, 19, 20],\n",
       "       [22, 23, 24, 25]])"
      ]
     },
     "execution_count": 50,
     "metadata": {},
     "output_type": "execute_result"
    }
   ],
   "source": [
    "np.setdiff1d(np.arange(12,26),np.array([16,21])).reshape(3,4)"
   ]
  },
  {
   "cell_type": "markdown",
   "metadata": {
    "cell_id": "e484779662ba4414948d2369d2c2c9d3",
    "deepnote_cell_type": "code",
    "jupyter": {
     "outputs_hidden": false
    }
   },
   "source": [
    "```python \n",
    "[Output]:\n",
    "array([[12, 13, 14, 15],\n",
    "       [17, 18, 19, 20],\n",
    "       [22, 23, 24, 25]])\n",
    "```"
   ]
  },
  {
   "cell_type": "code",
   "execution_count": 51,
   "metadata": {
    "cell_id": "f456120edfaa4ae38be6312b80d5091c",
    "deepnote_cell_type": "code",
    "tags": []
   },
   "outputs": [
    {
     "data": {
      "text/plain": [
       "array([20])"
      ]
     },
     "execution_count": 51,
     "metadata": {},
     "output_type": "execute_result"
    }
   ],
   "source": [
    "np.arange(20,21)"
   ]
  },
  {
   "cell_type": "markdown",
   "metadata": {
    "cell_id": "e484779662ba4414948d2369d2c2c9d3",
    "deepnote_cell_type": "code",
    "jupyter": {
     "outputs_hidden": false
    }
   },
   "source": [
    "```python \n",
    "[Output]:\n",
    "20\n",
    "```"
   ]
  },
  {
   "cell_type": "code",
   "execution_count": 54,
   "metadata": {
    "cell_id": "a7699cfe38eb445a9d384e9d48c50272",
    "deepnote_cell_type": "code",
    "tags": []
   },
   "outputs": [
    {
     "data": {
      "text/plain": [
       "array([[ 2],\n",
       "       [ 7],\n",
       "       [12]])"
      ]
     },
     "execution_count": 54,
     "metadata": {},
     "output_type": "execute_result"
    }
   ],
   "source": [
    "np.arange(2,13,5).reshape(3,1)"
   ]
  },
  {
   "cell_type": "markdown",
   "metadata": {
    "cell_id": "e484779662ba4414948d2369d2c2c9d3",
    "deepnote_cell_type": "code",
    "jupyter": {
     "outputs_hidden": false
    }
   },
   "source": [
    "```python \n",
    "[Output]:\n",
    "array([[ 2],\n",
    "       [ 7],\n",
    "       [12]])\n",
    "\n",
    "```"
   ]
  },
  {
   "cell_type": "code",
   "execution_count": 55,
   "metadata": {
    "cell_id": "37f5295c5b8842089647c475937183ba",
    "deepnote_cell_type": "code",
    "tags": []
   },
   "outputs": [
    {
     "data": {
      "text/plain": [
       "array([21, 22, 23, 24, 25])"
      ]
     },
     "execution_count": 55,
     "metadata": {},
     "output_type": "execute_result"
    }
   ],
   "source": [
    "np.arange(21,26)"
   ]
  },
  {
   "cell_type": "markdown",
   "metadata": {
    "cell_id": "e484779662ba4414948d2369d2c2c9d3",
    "deepnote_cell_type": "code",
    "jupyter": {
     "outputs_hidden": false
    }
   },
   "source": [
    "```python \n",
    "[Output]:\n",
    "array([21, 22, 23, 24, 25])\n",
    "\n",
    "```"
   ]
  },
  {
   "cell_type": "code",
   "execution_count": 56,
   "metadata": {
    "cell_id": "3fb91768e5ad4f89b91ea81eaf9bcf04",
    "deepnote_cell_type": "code",
    "tags": []
   },
   "outputs": [
    {
     "data": {
      "text/plain": [
       "array([[16, 17, 18, 19, 20],\n",
       "       [21, 22, 23, 24, 25]])"
      ]
     },
     "execution_count": 56,
     "metadata": {},
     "output_type": "execute_result"
    }
   ],
   "source": [
    "np.arange(16,26).reshape(2,5)"
   ]
  },
  {
   "cell_type": "markdown",
   "metadata": {
    "cell_id": "e484779662ba4414948d2369d2c2c9d3",
    "deepnote_cell_type": "code",
    "jupyter": {
     "outputs_hidden": false
    }
   },
   "source": [
    "```python \n",
    "[Output]:\n",
    "array([[16, 17, 18, 19, 20],\n",
    "       [21, 22, 23, 24, 25]])\n",
    "```"
   ]
  },
  {
   "cell_type": "markdown",
   "metadata": {},
   "source": [
    "### Conditional Indexing (AKA fancy indexing)"
   ]
  },
  {
   "cell_type": "code",
   "execution_count": 94,
   "metadata": {},
   "outputs": [],
   "source": [
    "import numpy as np\n",
    "np.random.seed(0)"
   ]
  },
  {
   "cell_type": "code",
   "execution_count": 95,
   "metadata": {},
   "outputs": [
    {
     "data": {
      "text/plain": [
       "array([[39, 42, 48, -5, -2],\n",
       "       [-2, 34,  4, 14, 16],\n",
       "       [45, 31, 18,  1, 19],\n",
       "       [19,  7, -4, 33, 34],\n",
       "       [18, 41, 19, 12, 32]])"
      ]
     },
     "execution_count": 95,
     "metadata": {},
     "output_type": "execute_result"
    }
   ],
   "source": [
    "mat = np.random.randint(-5, 50, size=[5,5])\n",
    "mat"
   ]
  },
  {
   "cell_type": "markdown",
   "metadata": {},
   "source": [
    "#### Select all elements that are greater than 5."
   ]
  },
  {
   "cell_type": "code",
   "execution_count": 59,
   "metadata": {},
   "outputs": [
    {
     "data": {
      "text/plain": [
       "array([39, 42, 48, 34, 14, 16, 45, 31, 18, 19, 19,  7, 33, 34, 18, 41, 19,\n",
       "       12, 32])"
      ]
     },
     "execution_count": 59,
     "metadata": {},
     "output_type": "execute_result"
    }
   ],
   "source": [
    " np.extract(mat > 5 , mat)"
   ]
  },
  {
   "cell_type": "markdown",
   "metadata": {},
   "source": [
    "Expected result:\n",
    "```python\n",
    "array([39, 42, 48, 34, 14, 16, 45, 31, 18, 19, 19,  7, 33, 34, 18, 41, 19,\n",
    "       12, 32])\n",
    "```"
   ]
  },
  {
   "cell_type": "markdown",
   "metadata": {},
   "source": [
    "#### Select all rows where the first element is less than or equal to 20."
   ]
  },
  {
   "cell_type": "code",
   "execution_count": 71,
   "metadata": {},
   "outputs": [
    {
     "data": {
      "text/plain": [
       "array([[-2, 34,  4, 14, 16],\n",
       "       [19,  7, -4, 33, 34],\n",
       "       [18, 41, 19, 12, 32]])"
      ]
     },
     "execution_count": 71,
     "metadata": {},
     "output_type": "execute_result"
    }
   ],
   "source": [
    "mat[mat[:,0]<=20]"
   ]
  },
  {
   "cell_type": "markdown",
   "metadata": {},
   "source": [
    "Expected result:\n",
    "```python\n",
    "array([[-2, 34,  4, 14, 16],\n",
    "       [19,  7, -4, 33, 34],\n",
    "       [18, 41, 19, 12, 32]])\n",
    "```"
   ]
  },
  {
   "cell_type": "markdown",
   "metadata": {},
   "source": [
    "ini_array1[ini_array1<0] = 0### Replace all negative elements with 0."
   ]
  },
  {
   "cell_type": "code",
   "execution_count": 74,
   "metadata": {},
   "outputs": [
    {
     "data": {
      "text/plain": [
       "array([[39, 42, 48,  0,  0],\n",
       "       [ 0, 34,  4, 14, 16],\n",
       "       [45, 31, 18,  1, 19],\n",
       "       [19,  7,  0, 33, 34],\n",
       "       [18, 41, 19, 12, 32]])"
      ]
     },
     "execution_count": 74,
     "metadata": {},
     "output_type": "execute_result"
    }
   ],
   "source": [
    "mat[mat<0] = 0\n",
    "mat"
   ]
  },
  {
   "cell_type": "markdown",
   "metadata": {},
   "source": [
    "Expected result:\n",
    "```python\n",
    "array([[39, 42, 48,  0,  0],\n",
    "       [ 0, 34,  4, 14, 16],\n",
    "       [45, 31, 18,  1, 19],\n",
    "       [19,  7,  0, 33, 34],\n",
    "       [18, 41, 19, 12, 32]])\n",
    "```"
   ]
  },
  {
   "cell_type": "markdown",
   "metadata": {},
   "source": [
    "### Calculate the sum of all elements that are less than or equal to 5."
   ]
  },
  {
   "cell_type": "code",
   "execution_count": 75,
   "metadata": {},
   "outputs": [
    {
     "data": {
      "text/plain": [
       "5"
      ]
     },
     "execution_count": 75,
     "metadata": {},
     "output_type": "execute_result"
    }
   ],
   "source": [
    "sum(mat[mat<=5])"
   ]
  },
  {
   "cell_type": "markdown",
   "metadata": {},
   "source": [
    "Expected result: `5`"
   ]
  },
  {
   "cell_type": "markdown",
   "metadata": {},
   "source": [
    "### Calculate the mean of all elements in the last column."
   ]
  },
  {
   "cell_type": "code",
   "execution_count": 76,
   "metadata": {},
   "outputs": [
    {
     "data": {
      "text/plain": [
       "20.2"
      ]
     },
     "execution_count": 76,
     "metadata": {},
     "output_type": "execute_result"
    }
   ],
   "source": [
    "np.mean(mat[:-1])"
   ]
  },
  {
   "cell_type": "markdown",
   "metadata": {},
   "source": [
    "Expected result: `20.2`"
   ]
  },
  {
   "cell_type": "markdown",
   "metadata": {},
   "source": [
    "#### Count the number of elements that are not equal to 0."
   ]
  },
  {
   "cell_type": "code",
   "execution_count": 77,
   "metadata": {},
   "outputs": [
    {
     "data": {
      "text/plain": [
       "21"
      ]
     },
     "execution_count": 77,
     "metadata": {},
     "output_type": "execute_result"
    }
   ],
   "source": [
    "np.count_nonzero(mat)"
   ]
  },
  {
   "cell_type": "markdown",
   "metadata": {},
   "source": [
    "Expected result: `21`"
   ]
  },
  {
   "cell_type": "markdown",
   "metadata": {},
   "source": [
    "#### Replace all elements equal to the maximum value of the matrix with 0."
   ]
  },
  {
   "cell_type": "code",
   "execution_count": 79,
   "metadata": {},
   "outputs": [
    {
     "data": {
      "text/plain": [
       "array([[39, 42,  0,  0,  0],\n",
       "       [ 0, 34,  4, 14, 16],\n",
       "       [45, 31, 18,  1, 19],\n",
       "       [19,  7,  0, 33, 34],\n",
       "       [18, 41, 19, 12, 32]])"
      ]
     },
     "execution_count": 79,
     "metadata": {},
     "output_type": "execute_result"
    }
   ],
   "source": [
    "mat[mat == np.max(mat)]=0\n",
    "mat"
   ]
  },
  {
   "cell_type": "markdown",
   "metadata": {},
   "source": [
    "Expected result:\n",
    "```python\n",
    "array([[39, 42,  0,  0,  0],\n",
    "       [ 0, 34,  4, 14, 16],\n",
    "       [45, 31, 18,  1, 19],\n",
    "       [19,  7,  0, 33, 34],\n",
    "       [18, 41, 19, 12, 32]])\n",
    "```"
   ]
  },
  {
   "cell_type": "markdown",
   "metadata": {
    "cell_id": "ece4daf687334d50ac8df20de298090b",
    "deepnote_cell_type": "markdown"
   },
   "source": [
    "### Math on rows and columns"
   ]
  },
  {
   "cell_type": "markdown",
   "metadata": {},
   "source": [
    "#### Add 5 to a all mat elements"
   ]
  },
  {
   "cell_type": "code",
   "execution_count": 84,
   "metadata": {},
   "outputs": [
    {
     "data": {
      "text/plain": [
       "array([[44, 47,  5,  5,  5],\n",
       "       [ 5, 39,  9, 19, 21],\n",
       "       [50, 36, 23,  6, 24],\n",
       "       [24, 12,  5, 38, 39],\n",
       "       [23, 46, 24, 17, 37]])"
      ]
     },
     "execution_count": 84,
     "metadata": {},
     "output_type": "execute_result"
    }
   ],
   "source": [
    "mat = mat + 5\n",
    "mat"
   ]
  },
  {
   "cell_type": "markdown",
   "metadata": {
    "cell_id": "f103251ffac14d909e7439a463566445",
    "deepnote_cell_type": "markdown"
   },
   "source": [
    "#### Get the sum of all the values in mat"
   ]
  },
  {
   "cell_type": "code",
   "execution_count": 86,
   "metadata": {},
   "outputs": [
    {
     "data": {
      "text/plain": [
       "603"
      ]
     },
     "execution_count": 86,
     "metadata": {},
     "output_type": "execute_result"
    }
   ],
   "source": [
    "np.sum(mat)"
   ]
  },
  {
   "cell_type": "markdown",
   "metadata": {
    "cell_id": "776729a730e54b27a5e9ee2e8670dbb6",
    "deepnote_cell_type": "markdown"
   },
   "source": [
    "#### Get the standard deviation of the values in mat"
   ]
  },
  {
   "cell_type": "code",
   "execution_count": 87,
   "metadata": {
    "cell_id": "c7bb1c17f0fb41458dae4b10c5604eea",
    "collapsed": false,
    "deepnote_cell_type": "code",
    "jupyter": {
     "outputs_hidden": false
    }
   },
   "outputs": [
    {
     "data": {
      "text/plain": [
       "15.007518115931095"
      ]
     },
     "execution_count": 87,
     "metadata": {},
     "output_type": "execute_result"
    }
   ],
   "source": [
    "np.std(mat)"
   ]
  },
  {
   "cell_type": "markdown",
   "metadata": {
    "cell_id": "db21e91b37404a80b07ed3c5edb24278",
    "deepnote_cell_type": "markdown"
   },
   "source": [
    "#### Get the sum of all the columns in mat"
   ]
  },
  {
   "cell_type": "code",
   "execution_count": 96,
   "metadata": {
    "cell_id": "7ddc65d70e994d9fa277ec0db688e8da",
    "collapsed": false,
    "deepnote_cell_type": "code",
    "jupyter": {
     "outputs_hidden": false
    }
   },
   "outputs": [
    {
     "data": {
      "text/plain": [
       "array([119, 155,  85,  55,  99])"
      ]
     },
     "execution_count": 96,
     "metadata": {},
     "output_type": "execute_result"
    }
   ],
   "source": [
    "mat.sum(0)"
   ]
  },
  {
   "cell_type": "markdown",
   "metadata": {
    "cell_id": "db21e91b37404a80b07ed3c5edb24278",
    "deepnote_cell_type": "markdown"
   },
   "source": [
    "#### Get the sum of all the rows in mat"
   ]
  },
  {
   "cell_type": "code",
   "execution_count": 97,
   "metadata": {},
   "outputs": [
    {
     "data": {
      "text/plain": [
       "array([122,  66, 114,  89, 122])"
      ]
     },
     "execution_count": 97,
     "metadata": {},
     "output_type": "execute_result"
    }
   ],
   "source": [
    "mat.sum(1)"
   ]
  },
  {
   "cell_type": "markdown",
   "metadata": {
    "cell_id": "47225c456e2d4126a99a89aca0a254c1",
    "deepnote_cell_type": "markdown"
   },
   "source": [
    "# Great Job!"
   ]
  }
 ],
 "metadata": {
  "deepnote": {},
  "deepnote_execution_queue": [],
  "deepnote_notebook_id": "c9cbc46f2e854daab755d936cde1edc6",
  "kernelspec": {
   "display_name": "Python 3 (ipykernel)",
   "language": "python",
   "name": "python3"
  },
  "language_info": {
   "codemirror_mode": {
    "name": "ipython",
    "version": 3
   },
   "file_extension": ".py",
   "mimetype": "text/x-python",
   "name": "python",
   "nbconvert_exporter": "python",
   "pygments_lexer": "ipython3",
   "version": "3.9.12"
  },
  "toc-autonumbering": false
 },
 "nbformat": 4,
 "nbformat_minor": 4
}
